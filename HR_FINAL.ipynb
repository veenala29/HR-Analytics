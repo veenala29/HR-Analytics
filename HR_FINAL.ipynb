{
 "cells": [
  {
   "cell_type": "markdown",
   "id": "803b9b76",
   "metadata": {},
   "source": [
    "## Employee Churn Prediction Model: \n",
    "\n",
    "* Hiring and retaining top talent is an extremely challenging task that requires capital, time and skills. Small business owners spend 40% of their working hours on tasks that do not generate any income such as hiring process for new employees.\n",
    "\n",
    "* In this article, we will implement Data Science techniques to improve the human resources department.\n",
    "\n",
    "* We are going to predict which employees in a company are more willing to leave the organization."
   ]
  },
  {
   "cell_type": "markdown",
   "id": "d56c6a98",
   "metadata": {},
   "source": [
    "# 1. Data Cleaning and Pre-Processing"
   ]
  },
  {
   "cell_type": "code",
   "execution_count": 1,
   "id": "7059a410",
   "metadata": {},
   "outputs": [
    {
     "ename": "FileNotFoundError",
     "evalue": "[Errno 2] No such file or directory: 'staff_1.xlsx'",
     "output_type": "error",
     "traceback": [
      "\u001b[1;31m---------------------------------------------------------------------------\u001b[0m",
      "\u001b[1;31mFileNotFoundError\u001b[0m                         Traceback (most recent call last)",
      "\u001b[1;32m~\\AppData\\Local\\Temp/ipykernel_10792/1468104852.py\u001b[0m in \u001b[0;36m<module>\u001b[1;34m\u001b[0m\n\u001b[0;32m      5\u001b[0m \u001b[1;32mimport\u001b[0m \u001b[0mseaborn\u001b[0m \u001b[1;32mas\u001b[0m \u001b[0msns\u001b[0m\u001b[1;33m\u001b[0m\u001b[1;33m\u001b[0m\u001b[0m\n\u001b[0;32m      6\u001b[0m \u001b[0mget_ipython\u001b[0m\u001b[1;33m(\u001b[0m\u001b[1;33m)\u001b[0m\u001b[1;33m.\u001b[0m\u001b[0mrun_line_magic\u001b[0m\u001b[1;33m(\u001b[0m\u001b[1;34m'matplotlib'\u001b[0m\u001b[1;33m,\u001b[0m \u001b[1;34m'inline'\u001b[0m\u001b[1;33m)\u001b[0m\u001b[1;33m\u001b[0m\u001b[1;33m\u001b[0m\u001b[0m\n\u001b[1;32m----> 7\u001b[1;33m \u001b[0mdf\u001b[0m\u001b[1;33m=\u001b[0m\u001b[0mpd\u001b[0m\u001b[1;33m.\u001b[0m\u001b[0mread_excel\u001b[0m\u001b[1;33m(\u001b[0m\u001b[1;34m'staff_1.xlsx'\u001b[0m\u001b[1;33m,\u001b[0m\u001b[0mheader\u001b[0m\u001b[1;33m=\u001b[0m\u001b[1;33m[\u001b[0m\u001b[1;36m0\u001b[0m\u001b[1;33m]\u001b[0m\u001b[1;33m)\u001b[0m\u001b[1;33m\u001b[0m\u001b[1;33m\u001b[0m\u001b[0m\n\u001b[0m\u001b[0;32m      8\u001b[0m \u001b[0mdf\u001b[0m\u001b[1;33m.\u001b[0m\u001b[0mhead\u001b[0m\u001b[1;33m(\u001b[0m\u001b[1;36m5\u001b[0m\u001b[1;33m)\u001b[0m\u001b[1;33m\u001b[0m\u001b[1;33m\u001b[0m\u001b[0m\n",
      "\u001b[1;32m~\\anaconda3\\lib\\site-packages\\pandas\\util\\_decorators.py\u001b[0m in \u001b[0;36mwrapper\u001b[1;34m(*args, **kwargs)\u001b[0m\n\u001b[0;32m    309\u001b[0m                     \u001b[0mstacklevel\u001b[0m\u001b[1;33m=\u001b[0m\u001b[0mstacklevel\u001b[0m\u001b[1;33m,\u001b[0m\u001b[1;33m\u001b[0m\u001b[1;33m\u001b[0m\u001b[0m\n\u001b[0;32m    310\u001b[0m                 )\n\u001b[1;32m--> 311\u001b[1;33m             \u001b[1;32mreturn\u001b[0m \u001b[0mfunc\u001b[0m\u001b[1;33m(\u001b[0m\u001b[1;33m*\u001b[0m\u001b[0margs\u001b[0m\u001b[1;33m,\u001b[0m \u001b[1;33m**\u001b[0m\u001b[0mkwargs\u001b[0m\u001b[1;33m)\u001b[0m\u001b[1;33m\u001b[0m\u001b[1;33m\u001b[0m\u001b[0m\n\u001b[0m\u001b[0;32m    312\u001b[0m \u001b[1;33m\u001b[0m\u001b[0m\n\u001b[0;32m    313\u001b[0m         \u001b[1;32mreturn\u001b[0m \u001b[0mwrapper\u001b[0m\u001b[1;33m\u001b[0m\u001b[1;33m\u001b[0m\u001b[0m\n",
      "\u001b[1;32m~\\anaconda3\\lib\\site-packages\\pandas\\io\\excel\\_base.py\u001b[0m in \u001b[0;36mread_excel\u001b[1;34m(io, sheet_name, header, names, index_col, usecols, squeeze, dtype, engine, converters, true_values, false_values, skiprows, nrows, na_values, keep_default_na, na_filter, verbose, parse_dates, date_parser, thousands, comment, skipfooter, convert_float, mangle_dupe_cols, storage_options)\u001b[0m\n\u001b[0;32m    362\u001b[0m     \u001b[1;32mif\u001b[0m \u001b[1;32mnot\u001b[0m \u001b[0misinstance\u001b[0m\u001b[1;33m(\u001b[0m\u001b[0mio\u001b[0m\u001b[1;33m,\u001b[0m \u001b[0mExcelFile\u001b[0m\u001b[1;33m)\u001b[0m\u001b[1;33m:\u001b[0m\u001b[1;33m\u001b[0m\u001b[1;33m\u001b[0m\u001b[0m\n\u001b[0;32m    363\u001b[0m         \u001b[0mshould_close\u001b[0m \u001b[1;33m=\u001b[0m \u001b[1;32mTrue\u001b[0m\u001b[1;33m\u001b[0m\u001b[1;33m\u001b[0m\u001b[0m\n\u001b[1;32m--> 364\u001b[1;33m         \u001b[0mio\u001b[0m \u001b[1;33m=\u001b[0m \u001b[0mExcelFile\u001b[0m\u001b[1;33m(\u001b[0m\u001b[0mio\u001b[0m\u001b[1;33m,\u001b[0m \u001b[0mstorage_options\u001b[0m\u001b[1;33m=\u001b[0m\u001b[0mstorage_options\u001b[0m\u001b[1;33m,\u001b[0m \u001b[0mengine\u001b[0m\u001b[1;33m=\u001b[0m\u001b[0mengine\u001b[0m\u001b[1;33m)\u001b[0m\u001b[1;33m\u001b[0m\u001b[1;33m\u001b[0m\u001b[0m\n\u001b[0m\u001b[0;32m    365\u001b[0m     \u001b[1;32melif\u001b[0m \u001b[0mengine\u001b[0m \u001b[1;32mand\u001b[0m \u001b[0mengine\u001b[0m \u001b[1;33m!=\u001b[0m \u001b[0mio\u001b[0m\u001b[1;33m.\u001b[0m\u001b[0mengine\u001b[0m\u001b[1;33m:\u001b[0m\u001b[1;33m\u001b[0m\u001b[1;33m\u001b[0m\u001b[0m\n\u001b[0;32m    366\u001b[0m         raise ValueError(\n",
      "\u001b[1;32m~\\anaconda3\\lib\\site-packages\\pandas\\io\\excel\\_base.py\u001b[0m in \u001b[0;36m__init__\u001b[1;34m(self, path_or_buffer, engine, storage_options)\u001b[0m\n\u001b[0;32m   1189\u001b[0m                 \u001b[0mext\u001b[0m \u001b[1;33m=\u001b[0m \u001b[1;34m\"xls\"\u001b[0m\u001b[1;33m\u001b[0m\u001b[1;33m\u001b[0m\u001b[0m\n\u001b[0;32m   1190\u001b[0m             \u001b[1;32melse\u001b[0m\u001b[1;33m:\u001b[0m\u001b[1;33m\u001b[0m\u001b[1;33m\u001b[0m\u001b[0m\n\u001b[1;32m-> 1191\u001b[1;33m                 ext = inspect_excel_format(\n\u001b[0m\u001b[0;32m   1192\u001b[0m                     \u001b[0mcontent_or_path\u001b[0m\u001b[1;33m=\u001b[0m\u001b[0mpath_or_buffer\u001b[0m\u001b[1;33m,\u001b[0m \u001b[0mstorage_options\u001b[0m\u001b[1;33m=\u001b[0m\u001b[0mstorage_options\u001b[0m\u001b[1;33m\u001b[0m\u001b[1;33m\u001b[0m\u001b[0m\n\u001b[0;32m   1193\u001b[0m                 )\n",
      "\u001b[1;32m~\\anaconda3\\lib\\site-packages\\pandas\\io\\excel\\_base.py\u001b[0m in \u001b[0;36minspect_excel_format\u001b[1;34m(content_or_path, storage_options)\u001b[0m\n\u001b[0;32m   1068\u001b[0m         \u001b[0mcontent_or_path\u001b[0m \u001b[1;33m=\u001b[0m \u001b[0mBytesIO\u001b[0m\u001b[1;33m(\u001b[0m\u001b[0mcontent_or_path\u001b[0m\u001b[1;33m)\u001b[0m\u001b[1;33m\u001b[0m\u001b[1;33m\u001b[0m\u001b[0m\n\u001b[0;32m   1069\u001b[0m \u001b[1;33m\u001b[0m\u001b[0m\n\u001b[1;32m-> 1070\u001b[1;33m     with get_handle(\n\u001b[0m\u001b[0;32m   1071\u001b[0m         \u001b[0mcontent_or_path\u001b[0m\u001b[1;33m,\u001b[0m \u001b[1;34m\"rb\"\u001b[0m\u001b[1;33m,\u001b[0m \u001b[0mstorage_options\u001b[0m\u001b[1;33m=\u001b[0m\u001b[0mstorage_options\u001b[0m\u001b[1;33m,\u001b[0m \u001b[0mis_text\u001b[0m\u001b[1;33m=\u001b[0m\u001b[1;32mFalse\u001b[0m\u001b[1;33m\u001b[0m\u001b[1;33m\u001b[0m\u001b[0m\n\u001b[0;32m   1072\u001b[0m     ) as handle:\n",
      "\u001b[1;32m~\\anaconda3\\lib\\site-packages\\pandas\\io\\common.py\u001b[0m in \u001b[0;36mget_handle\u001b[1;34m(path_or_buf, mode, encoding, compression, memory_map, is_text, errors, storage_options)\u001b[0m\n\u001b[0;32m    709\u001b[0m         \u001b[1;32melse\u001b[0m\u001b[1;33m:\u001b[0m\u001b[1;33m\u001b[0m\u001b[1;33m\u001b[0m\u001b[0m\n\u001b[0;32m    710\u001b[0m             \u001b[1;31m# Binary mode\u001b[0m\u001b[1;33m\u001b[0m\u001b[1;33m\u001b[0m\u001b[0m\n\u001b[1;32m--> 711\u001b[1;33m             \u001b[0mhandle\u001b[0m \u001b[1;33m=\u001b[0m \u001b[0mopen\u001b[0m\u001b[1;33m(\u001b[0m\u001b[0mhandle\u001b[0m\u001b[1;33m,\u001b[0m \u001b[0mioargs\u001b[0m\u001b[1;33m.\u001b[0m\u001b[0mmode\u001b[0m\u001b[1;33m)\u001b[0m\u001b[1;33m\u001b[0m\u001b[1;33m\u001b[0m\u001b[0m\n\u001b[0m\u001b[0;32m    712\u001b[0m         \u001b[0mhandles\u001b[0m\u001b[1;33m.\u001b[0m\u001b[0mappend\u001b[0m\u001b[1;33m(\u001b[0m\u001b[0mhandle\u001b[0m\u001b[1;33m)\u001b[0m\u001b[1;33m\u001b[0m\u001b[1;33m\u001b[0m\u001b[0m\n\u001b[0;32m    713\u001b[0m \u001b[1;33m\u001b[0m\u001b[0m\n",
      "\u001b[1;31mFileNotFoundError\u001b[0m: [Errno 2] No such file or directory: 'staff_1.xlsx'"
     ]
    }
   ],
   "source": [
    "import pandas as pd\n",
    "import numpy as np\n",
    "import matplotlib.pyplot as plt\n",
    "import matplotlib as mpl\n",
    "import seaborn as sns\n",
    "%matplotlib inline\n",
    "df=pd.read_excel('',header=[0])\n",
    "df.head(5)"
   ]
  },
  {
   "cell_type": "code",
   "execution_count": null,
   "id": "a81647b0",
   "metadata": {},
   "outputs": [],
   "source": [
    "new_header = df.iloc[0] #grab the first row for the header\n",
    "df = df[1:] #take the data less the header row\n",
    "df.columns = new_header #set the header row as the df header\n",
    "df"
   ]
  },
  {
   "cell_type": "code",
   "execution_count": null,
   "id": "7f2d9b88",
   "metadata": {},
   "outputs": [],
   "source": [
    "result_1 = df.iloc[:,[1,2,3,4,6,7,8,9,10,-8,-7,-6,-5,-4,-3,-2,-1]]"
   ]
  },
  {
   "cell_type": "code",
   "execution_count": null,
   "id": "e6d8cc17",
   "metadata": {},
   "outputs": [],
   "source": [
    "result_1"
   ]
  },
  {
   "cell_type": "code",
   "execution_count": null,
   "id": "f059f7c3",
   "metadata": {},
   "outputs": [],
   "source": [
    "df_2=pd.read_excel('staff_2.xlsx',header=[0])"
   ]
  },
  {
   "cell_type": "code",
   "execution_count": null,
   "id": "479dfa53",
   "metadata": {},
   "outputs": [],
   "source": [
    "df_2"
   ]
  },
  {
   "cell_type": "code",
   "execution_count": null,
   "id": "a92a95ee",
   "metadata": {},
   "outputs": [],
   "source": [
    "new_header = df_2.iloc[0] #grab the first row for the header\n",
    "df_2 = df_2[1:] #take the data less the header row\n",
    "df_2.columns = new_header #set the header row as the df header\n",
    "df_2"
   ]
  },
  {
   "cell_type": "code",
   "execution_count": null,
   "id": "a7582247",
   "metadata": {},
   "outputs": [],
   "source": [
    "result_2 = df_2.iloc[:,[1,2,3,4,6,7,8,9,10,-8,-7,-6,-5,-4,-3,-2,-1]]"
   ]
  },
  {
   "cell_type": "code",
   "execution_count": null,
   "id": "1f483b40",
   "metadata": {},
   "outputs": [],
   "source": [
    "result_2"
   ]
  },
  {
   "cell_type": "code",
   "execution_count": null,
   "id": "68b53744",
   "metadata": {},
   "outputs": [],
   "source": [
    "## getting information about the dataset"
   ]
  },
  {
   "cell_type": "code",
   "execution_count": null,
   "id": "5e2993f1",
   "metadata": {},
   "outputs": [],
   "source": [
    "result_2.info()"
   ]
  },
  {
   "cell_type": "code",
   "execution_count": null,
   "id": "f162cb8d",
   "metadata": {},
   "outputs": [],
   "source": [
    "result_1.head(5)"
   ]
  },
  {
   "cell_type": "code",
   "execution_count": null,
   "id": "7e508b13",
   "metadata": {},
   "outputs": [],
   "source": [
    "result_2.head(5)"
   ]
  },
  {
   "cell_type": "markdown",
   "id": "985433bc",
   "metadata": {},
   "source": [
    "### Append the result_1 and result_2 "
   ]
  },
  {
   "cell_type": "code",
   "execution_count": null,
   "id": "d22831d9",
   "metadata": {},
   "outputs": [],
   "source": [
    "result_final=result_1.append(result_2)"
   ]
  },
  {
   "cell_type": "code",
   "execution_count": null,
   "id": "a7a82d27",
   "metadata": {},
   "outputs": [],
   "source": [
    "result_final"
   ]
  },
  {
   "cell_type": "markdown",
   "id": "28224545",
   "metadata": {},
   "source": [
    "### save this final dataset into csv format"
   ]
  },
  {
   "cell_type": "code",
   "execution_count": null,
   "id": "a8156adb",
   "metadata": {},
   "outputs": [],
   "source": [
    "#result_final.to_csv(\"final_data.csv\")"
   ]
  },
  {
   "cell_type": "code",
   "execution_count": null,
   "id": "373cde46",
   "metadata": {},
   "outputs": [],
   "source": [
    "result_final=pd.read_csv(\"final_data.csv\")"
   ]
  },
  {
   "cell_type": "code",
   "execution_count": null,
   "id": "668abb07",
   "metadata": {},
   "outputs": [],
   "source": [
    "result_final"
   ]
  },
  {
   "cell_type": "markdown",
   "id": "b886f0c9",
   "metadata": {},
   "source": [
    "### dropping the unused columns from dataset"
   ]
  },
  {
   "cell_type": "code",
   "execution_count": null,
   "id": "6c8e9011",
   "metadata": {},
   "outputs": [],
   "source": [
    "result_final_2 = result_final.drop(['Unnamed: 0','Employee Name','Join Date','Termination Date'],axis=1)"
   ]
  },
  {
   "cell_type": "markdown",
   "id": "7696c44d",
   "metadata": {},
   "source": [
    "### converting the object data type into proper format"
   ]
  },
  {
   "cell_type": "code",
   "execution_count": null,
   "id": "e219957a",
   "metadata": {},
   "outputs": [],
   "source": [
    "result_final['Total Hours'] = result_final['Total Hours'].astype(object).astype(float)\n",
    "result_final['Total Available_Hours'] =result_final['Total Available Hours'].astype(object).astype(float)\n",
    "result_final['Work Hours'] = result_final['Work Hours'].astype(object).astype(float)\n",
    "result_final['Leave Hours'] = result_final['Leave Hours'].astype(object).astype(float)\n",
    "result_final['Training Hour'] = result_final['Training Hours'].astype(object).astype(float)\n",
    "result_final['BD Hours'] = result_final['BD Hours'].astype(object).astype(float)\n",
    "result_final['NC Hours'] = result_final['NC Hours'].astype(object).astype(float)\n",
    "#result_df['Utilization_percentage'] = result_df['Utilization_percentage'].astype(object).astype(float)"
   ]
  },
  {
   "cell_type": "code",
   "execution_count": null,
   "id": "e58d0176",
   "metadata": {
    "scrolled": true
   },
   "outputs": [],
   "source": [
    "result_final_2.info()"
   ]
  },
  {
   "cell_type": "markdown",
   "id": "f90d02bc",
   "metadata": {},
   "source": [
    "## checking null  values"
   ]
  },
  {
   "cell_type": "code",
   "execution_count": null,
   "id": "ee25a178",
   "metadata": {},
   "outputs": [],
   "source": [
    "result_final_2.isnull().sum()"
   ]
  },
  {
   "cell_type": "markdown",
   "id": "67394a04",
   "metadata": {},
   "source": [
    "### Here we see that there are no null values present in dataset. So not required to do the pre-processing for null values"
   ]
  },
  {
   "cell_type": "code",
   "execution_count": null,
   "id": "63e949b3",
   "metadata": {},
   "outputs": [],
   "source": [
    "result_final_2"
   ]
  },
  {
   "cell_type": "code",
   "execution_count": null,
   "id": "1d115aac",
   "metadata": {},
   "outputs": [],
   "source": [
    "df_final =result_final_2.rename(columns={result_final_2.columns[0]:'Profit_Center',result_final_2.columns[1]:'Employee_Position',result_final_2.columns[2]:'Employee_Location',result_final_2.columns[3]:'Employee_Category',result_final_2.columns[4]:'Supervisor_name',result_final_2.columns[5]:'Current_Status',result_final_2.columns[6]:'Total_Hours',result_final_2.columns[7]:'Total_Available_Hours',result_final_2.columns[8]:'Work_Hours',result_final_2.columns[9]:'Leave_Hours',result_final_2.columns[10]:'Training_Hours',result_final_2.columns[11]:'BD_Hours',result_final_2.columns[12]:'NC_Hours',result_final_2.columns[13]:'Utilization_percentage'})\n",
    "df_final"
   ]
  },
  {
   "cell_type": "markdown",
   "id": "b2fabdc3",
   "metadata": {},
   "source": [
    "### replacing the '-' symbol to 0 value"
   ]
  },
  {
   "cell_type": "code",
   "execution_count": null,
   "id": "4c59e402",
   "metadata": {},
   "outputs": [],
   "source": [
    "df_final[\"Utilization_percentage\"].replace([\"-\"], '0', inplace=True)"
   ]
  },
  {
   "cell_type": "code",
   "execution_count": null,
   "id": "60d2f544",
   "metadata": {},
   "outputs": [],
   "source": [
    "df_final"
   ]
  },
  {
   "cell_type": "code",
   "execution_count": null,
   "id": "e87efed8",
   "metadata": {},
   "outputs": [],
   "source": [
    "df_final.info()"
   ]
  },
  {
   "cell_type": "markdown",
   "id": "3c8d87dc",
   "metadata": {},
   "source": [
    "### converting the Utilication_percentage column from object to float"
   ]
  },
  {
   "cell_type": "code",
   "execution_count": null,
   "id": "a65d82e0",
   "metadata": {},
   "outputs": [],
   "source": [
    "df_final['Utilization_percentage'] = df_final['Utilization_percentage'].astype(object).astype(float)"
   ]
  },
  {
   "cell_type": "code",
   "execution_count": null,
   "id": "b297f06d",
   "metadata": {},
   "outputs": [],
   "source": [
    "df_final.info()"
   ]
  },
  {
   "cell_type": "markdown",
   "id": "b1b5e075",
   "metadata": {},
   "source": [
    "### Checking the correlation between the differnet variables."
   ]
  },
  {
   "cell_type": "code",
   "execution_count": null,
   "id": "b3250668",
   "metadata": {},
   "outputs": [],
   "source": [
    "corrMatrix = df_final.corr()\n",
    "sns.heatmap(corrMatrix, annot=True)\n",
    "plt.show()"
   ]
  },
  {
   "cell_type": "code",
   "execution_count": null,
   "id": "e56ea121",
   "metadata": {},
   "outputs": [],
   "source": [
    "df_final.corr()"
   ]
  },
  {
   "cell_type": "markdown",
   "id": "943fcaf3",
   "metadata": {},
   "source": [
    "some columns are correlated with each other we will remove some columns in order to solve correlation problem"
   ]
  },
  {
   "cell_type": "markdown",
   "id": "5b3d5dfc",
   "metadata": {},
   "source": [
    "### drop the columns which are uncorrelated"
   ]
  },
  {
   "cell_type": "code",
   "execution_count": null,
   "id": "fc3f23ba",
   "metadata": {},
   "outputs": [],
   "source": [
    "df_final.drop(['Total_Available_Hours','BD_Hours','Leave_Hours','NC_Hours','Supervisor_name'], axis=1, inplace=True)"
   ]
  },
  {
   "cell_type": "code",
   "execution_count": null,
   "id": "82e59dbf",
   "metadata": {},
   "outputs": [],
   "source": [
    "df_final.info()"
   ]
  },
  {
   "cell_type": "code",
   "execution_count": null,
   "id": "1cfd1e69",
   "metadata": {},
   "outputs": [],
   "source": [
    "df_final['Current_Status'].value_counts()"
   ]
  },
  {
   "cell_type": "markdown",
   "id": "d4e4cec0",
   "metadata": {},
   "source": [
    "## Making target class as binary target class"
   ]
  },
  {
   "cell_type": "code",
   "execution_count": null,
   "id": "37ad12a8",
   "metadata": {},
   "outputs": [],
   "source": [
    "df_final.Current_Status.replace({\"New Joiner\":\"Active\" ,\"Secondment\":\"Active\",\"Sabbatical\":\"Active\"}, inplace=True)"
   ]
  },
  {
   "cell_type": "code",
   "execution_count": null,
   "id": "e177dcec",
   "metadata": {},
   "outputs": [],
   "source": [
    "df_final['Current_Status'].value_counts()"
   ]
  },
  {
   "cell_type": "code",
   "execution_count": null,
   "id": "ebe191fc",
   "metadata": {},
   "outputs": [],
   "source": [
    "df_final.describe()"
   ]
  },
  {
   "cell_type": "markdown",
   "id": "1a4b6781",
   "metadata": {},
   "source": [
    "### The describe() method returns description of the data in the DataFrame. Here, we find that the mean,standard deviation and quartiles."
   ]
  },
  {
   "cell_type": "markdown",
   "id": "7c7e2cf8",
   "metadata": {},
   "source": [
    "## Observing value counts & plotting countplots"
   ]
  },
  {
   "cell_type": "code",
   "execution_count": null,
   "id": "aae1cd1b",
   "metadata": {},
   "outputs": [],
   "source": [
    "df_final['Profit_Center'].value_counts()"
   ]
  },
  {
   "cell_type": "markdown",
   "id": "564135e0",
   "metadata": {},
   "source": [
    "### The count of PC-3 is more as compared to other PC's."
   ]
  },
  {
   "cell_type": "code",
   "execution_count": null,
   "id": "a92518d7",
   "metadata": {},
   "outputs": [],
   "source": [
    "plt.figure(figsize=(10,5))\n",
    "sns.countplot(x=df_final['Profit_Center'],palette='rainbow')"
   ]
  },
  {
   "cell_type": "markdown",
   "id": "00e7f3bf",
   "metadata": {},
   "source": [
    "### On the basis of countplot also, we see that the count of PC-3 is more as compared to others."
   ]
  },
  {
   "cell_type": "code",
   "execution_count": null,
   "id": "22ee70d4",
   "metadata": {},
   "outputs": [],
   "source": [
    "df_final['Employee_Position'].value_counts()"
   ]
  },
  {
   "cell_type": "markdown",
   "id": "d66464c1",
   "metadata": {},
   "source": [
    "### Most of the employees are in LEVEL 7 position in this dataset. "
   ]
  },
  {
   "cell_type": "code",
   "execution_count": null,
   "id": "505cb314",
   "metadata": {},
   "outputs": [],
   "source": [
    "plt.figure(figsize=(10,5))\n",
    "sns.countplot(x=df_final['Employee_Position'],palette='rainbow')"
   ]
  },
  {
   "cell_type": "markdown",
   "id": "e1b3a079",
   "metadata": {},
   "source": [
    "### here we have seen using the countplot that Most of employees present in dataset are of LEVEL 7."
   ]
  },
  {
   "cell_type": "code",
   "execution_count": null,
   "id": "a020a5dc",
   "metadata": {},
   "outputs": [],
   "source": [
    "df_final['Employee_Location'].value_counts()"
   ]
  },
  {
   "cell_type": "code",
   "execution_count": null,
   "id": "521cd817",
   "metadata": {},
   "outputs": [],
   "source": [
    "plt.figure(figsize=(10,5))\n",
    "sns.countplot(x=df_final['Employee_Location'],palette='rainbow')"
   ]
  },
  {
   "cell_type": "markdown",
   "id": "a86b7de2",
   "metadata": {},
   "source": [
    "### Most of the Employees present in Location 1 compared to other Location. "
   ]
  },
  {
   "cell_type": "code",
   "execution_count": null,
   "id": "a9429033",
   "metadata": {},
   "outputs": [],
   "source": [
    "df_final['Employee_Category'].value_counts()"
   ]
  },
  {
   "cell_type": "markdown",
   "id": "535457ad",
   "metadata": {},
   "source": [
    "### There are 13 types of Employee categories present in dataset such as Confirmed Staff,Serving Notice Period,Staff on Probation,\n",
    "### Resigned,Level 1/2,Secondee-Outward-Without Pay,SVP/VP,Awaiting Termination,Confirmed-Sabbatical,Confirmed Staff (Part-Time 6 Hours),Fixed term Staff,Confirmed Staff (Part-Time 4 Hours),Secondee-Outward-With Pay       "
   ]
  },
  {
   "cell_type": "code",
   "execution_count": null,
   "id": "45efb86b",
   "metadata": {},
   "outputs": [],
   "source": [
    "plt.figure(figsize=(30,40))\n",
    "sns.countplot(x=df_final['Employee_Category'],palette='rainbow')"
   ]
  },
  {
   "cell_type": "markdown",
   "id": "bd505993",
   "metadata": {},
   "source": [
    "### Most of the Employees present in dataset belongs to COnfirmed Staff afther that serving notice period task came."
   ]
  },
  {
   "cell_type": "markdown",
   "id": "ccc6eed5",
   "metadata": {},
   "source": [
    "### The Cacilia Aimee is the most occured name in Supervisor_name column."
   ]
  },
  {
   "cell_type": "code",
   "execution_count": null,
   "id": "f147b73b",
   "metadata": {},
   "outputs": [],
   "source": [
    "df_final['Current_Status'].value_counts()"
   ]
  },
  {
   "cell_type": "code",
   "execution_count": null,
   "id": "db410c35",
   "metadata": {},
   "outputs": [],
   "source": [
    "plt.figure(figsize=(10,5))\n",
    "sns.countplot(x=df_final['Current_Status'],palette='rainbow')"
   ]
  },
  {
   "cell_type": "markdown",
   "id": "92973bba",
   "metadata": {},
   "source": [
    "### There are 2 types of employees status present in dataset. There are more numbers of active employees present in our dataset."
   ]
  },
  {
   "cell_type": "markdown",
   "id": "f94f48f2",
   "metadata": {},
   "source": [
    "## Proportion of current status"
   ]
  },
  {
   "cell_type": "code",
   "execution_count": null,
   "id": "7887f8c1",
   "metadata": {},
   "outputs": [],
   "source": [
    "labels = 'Active','Resigned','New Joiner','Secondment','Sabbatical'\n",
    "sizes = [df_final.Current_Status[df_final['Current_Status']== 'Active'].count(),\n",
    "         df_final.Current_Status[df_final['Current_Status']== 'Resigned'].count(),\n",
    "         df_final.Current_Status[df_final['Current_Status']== 'New Joiner'].count(),\n",
    "         df_final.Current_Status[df_final['Current_Status']== 'Secondment'].count(),\n",
    "         df_final.Current_Status[df_final['Current_Status']== 'Sabbatical'].count()]\n",
    "\n",
    "fig, ax = plt.subplots(figsize=(10,5))\n",
    "ax.pie(sizes, labels=labels, autopct='%1.1f%%', shadow=True, startangle=5, \n",
    "       textprops={'fontsize':8})\n",
    "ax.axis('equal')\n",
    "plt.legend(loc='upper right')\n",
    "plt.title(\"Proportion of current status\",size=15)\n",
    "plt.show()"
   ]
  },
  {
   "cell_type": "markdown",
   "id": "1f218310",
   "metadata": {},
   "source": [
    "#### Here we get the proportion of Employees status. We see that approximate 81 percentage of Active employee status present in dataset."
   ]
  },
  {
   "cell_type": "code",
   "execution_count": null,
   "id": "9e0b68be",
   "metadata": {},
   "outputs": [],
   "source": [
    "# Plotting the countplot of target column\n",
    "plt.figure(figsize=(10,5))\n",
    "sns.countplot(x=df_final['Current_Status'],palette='rainbow')"
   ]
  },
  {
   "cell_type": "markdown",
   "id": "7361351a",
   "metadata": {},
   "source": [
    "#### By using coutplot, we see that more number of active employee status present in dataset."
   ]
  },
  {
   "cell_type": "markdown",
   "id": "849822ef",
   "metadata": {},
   "source": [
    "## Univariate Analysis"
   ]
  },
  {
   "cell_type": "code",
   "execution_count": null,
   "id": "388926f0",
   "metadata": {},
   "outputs": [],
   "source": [
    "plt.figure(figsize=(5,5))\n",
    "sns.boxplot(x='Total_Hours',data=df_final)"
   ]
  },
  {
   "cell_type": "markdown",
   "id": "7b704af8",
   "metadata": {},
   "source": [
    "### In above boxplot, ther are some number of outliers present in Total_hours column"
   ]
  },
  {
   "cell_type": "code",
   "execution_count": null,
   "id": "433c48b8",
   "metadata": {},
   "outputs": [],
   "source": [
    "plt.figure(figsize=(15, 5))\n",
    "plt.title(\"Total_Hours\")\n",
    "plt.xlabel(\"Total_Hours\")\n",
    "plt.hist(df_final[\"Total_Hours\"], facecolor = \"orangered\", edgecolor = \"maroon\", bins=4)\n",
    "plt.show()"
   ]
  },
  {
   "cell_type": "markdown",
   "id": "ed184be0",
   "metadata": {},
   "source": [
    "#### Most of the total_hours are in range of 1500 hour to 2000 hour"
   ]
  },
  {
   "cell_type": "markdown",
   "id": "3da155cf",
   "metadata": {},
   "source": [
    "#### outliers present in Total_Available_Hours."
   ]
  },
  {
   "cell_type": "code",
   "execution_count": null,
   "id": "a6dc42f8",
   "metadata": {},
   "outputs": [],
   "source": [
    "plt.figure(figsize=(5,5))\n",
    "sns.boxplot(x='Work_Hours',data=df_final)"
   ]
  },
  {
   "cell_type": "markdown",
   "id": "d3a7ccf4",
   "metadata": {},
   "source": [
    "#### There are no outliers present in Work_hours column"
   ]
  },
  {
   "cell_type": "code",
   "execution_count": null,
   "id": "7c609359",
   "metadata": {},
   "outputs": [],
   "source": [
    "plt.figure(figsize=(15, 5))\n",
    "plt.title(\"Work_Hours\")\n",
    "plt.xlabel(\"Work_Hours\")\n",
    "plt.hist(df_final[\"Work_Hours\"], facecolor = \"orangered\", edgecolor = \"maroon\", bins=4)\n",
    "plt.show()"
   ]
  },
  {
   "cell_type": "markdown",
   "id": "2eaad3fb",
   "metadata": {},
   "source": [
    "OUtliers present in Leave Hours"
   ]
  },
  {
   "cell_type": "code",
   "execution_count": null,
   "id": "b2048ee2",
   "metadata": {},
   "outputs": [],
   "source": [
    "plt.figure(figsize=(5,5))\n",
    "sns.boxplot(x='Training_Hours',data=df_final)"
   ]
  },
  {
   "cell_type": "code",
   "execution_count": null,
   "id": "82a7887d",
   "metadata": {},
   "outputs": [],
   "source": [
    "plt.figure(figsize=(15, 5))\n",
    "plt.title(\"Training_Hours\")\n",
    "plt.xlabel(\"Training_Hours\")\n",
    "plt.hist(df_final[\"Training_Hours\"], facecolor = \"orangered\", edgecolor = \"maroon\", bins=4)\n",
    "plt.show()"
   ]
  },
  {
   "cell_type": "code",
   "execution_count": null,
   "id": "3f778832",
   "metadata": {},
   "outputs": [],
   "source": [
    "df_final[df_final['Training_Hours']<0]"
   ]
  },
  {
   "cell_type": "markdown",
   "id": "0880c905",
   "metadata": {},
   "source": [
    "### The negative values are replaced with 0 "
   ]
  },
  {
   "cell_type": "code",
   "execution_count": null,
   "id": "c4d43ce6",
   "metadata": {},
   "outputs": [],
   "source": [
    "df_final['Training_Hours'] = np.where((df_final['Training_Hours']<0),0, df_final['Training_Hours'])\n",
    "df_final.head()"
   ]
  },
  {
   "cell_type": "code",
   "execution_count": null,
   "id": "028bd44a",
   "metadata": {},
   "outputs": [],
   "source": [
    "df_final[df_final['Training_Hours']<0]"
   ]
  },
  {
   "cell_type": "markdown",
   "id": "ef1742b1",
   "metadata": {},
   "source": [
    "#### Now there are most of the training hours in positive. We replaces the negative values with 0"
   ]
  },
  {
   "cell_type": "code",
   "execution_count": null,
   "id": "771d1bf2",
   "metadata": {},
   "outputs": [],
   "source": [
    "plt.figure(figsize=(15, 5))\n",
    "plt.title(\"Training_Hours\")\n",
    "plt.xlabel(\"Training_Hours\")\n",
    "plt.hist(df_final[\"Training_Hours\"], facecolor = \"orangered\", edgecolor = \"maroon\", bins=4)\n",
    "plt.show()"
   ]
  },
  {
   "cell_type": "markdown",
   "id": "733cfa69",
   "metadata": {},
   "source": [
    "## Bivariate Analysis"
   ]
  },
  {
   "cell_type": "code",
   "execution_count": null,
   "id": "0e2c6833",
   "metadata": {},
   "outputs": [],
   "source": [
    "import seaborn as sns\n",
    "plt.subplots(figsize=(10,5))\n",
    "ax=sns.boxplot(x='Current_Status',y='Total_Hours',data=df_final)\n",
    "ax.set_xticklabels(ax.get_xticklabels(),rotation=40,ha='right')\n",
    "plt.show()"
   ]
  },
  {
   "cell_type": "markdown",
   "id": "827f6b81",
   "metadata": {},
   "source": [
    "#### Here we see that Active employee status has more number of Total_hoours than Resigned."
   ]
  },
  {
   "cell_type": "code",
   "execution_count": null,
   "id": "b1d5fe53",
   "metadata": {},
   "outputs": [],
   "source": [
    "import seaborn as sns\n",
    "plt.subplots(figsize=(10,5))\n",
    "ax=sns.boxplot(x='Current_Status',y='Work_Hours',data=df_final)\n",
    "ax.set_xticklabels(ax.get_xticklabels(),rotation=40,ha='right')\n",
    "plt.show()"
   ]
  },
  {
   "cell_type": "markdown",
   "id": "6e25e626",
   "metadata": {},
   "source": [
    "#### The employees with active status has more number of work hours than other employee status."
   ]
  },
  {
   "cell_type": "code",
   "execution_count": null,
   "id": "f34d772d",
   "metadata": {},
   "outputs": [],
   "source": [
    "import seaborn as sns\n",
    "plt.subplots(figsize=(10,5))\n",
    "ax=sns.boxplot(x='Current_Status',y='Training_Hours',data=df_final)\n",
    "ax.set_xticklabels(ax.get_xticklabels(),rotation=40,ha='right')\n",
    "plt.show()"
   ]
  },
  {
   "cell_type": "markdown",
   "id": "d364944d",
   "metadata": {},
   "source": [
    "#### Here we see that  Active status employees has more number of training_hours than Resigned employees."
   ]
  },
  {
   "cell_type": "markdown",
   "id": "2b507650",
   "metadata": {},
   "source": [
    "#### The secondment and active status employees have more number of NC_hours."
   ]
  },
  {
   "cell_type": "code",
   "execution_count": null,
   "id": "16407448",
   "metadata": {},
   "outputs": [],
   "source": [
    "import seaborn as sns\n",
    "plt.subplots(figsize=(10,5))\n",
    "ax=sns.boxplot(x='Current_Status',y='Utilization_percentage',data=df_final)\n",
    "ax.set_xticklabels(ax.get_xticklabels(),rotation=40,ha='right')\n",
    "plt.show()"
   ]
  },
  {
   "cell_type": "markdown",
   "id": "5f11e179",
   "metadata": {},
   "source": [
    "#### Utilization_percentage is  less in resigned  employees as compared to active employees."
   ]
  },
  {
   "cell_type": "code",
   "execution_count": null,
   "id": "48af720e",
   "metadata": {},
   "outputs": [],
   "source": [
    "import seaborn as sns\n",
    "plt.subplots(figsize=(10,5))\n",
    "ax=sns.countplot(df_final['Profit_Center'])\n",
    "ax.set_xticklabels(ax.get_xticklabels(),rotation=40,ha='right')\n",
    "plt.show()"
   ]
  },
  {
   "cell_type": "markdown",
   "id": "46899fe7",
   "metadata": {},
   "source": [
    "#### There are more number of pc-3 employees present in dataset than pc-2,pc1 and many other."
   ]
  },
  {
   "cell_type": "code",
   "execution_count": null,
   "id": "3f568680",
   "metadata": {},
   "outputs": [],
   "source": [
    "df_final.head()"
   ]
  },
  {
   "cell_type": "code",
   "execution_count": null,
   "id": "4dbd70cf",
   "metadata": {},
   "outputs": [],
   "source": [
    "import seaborn as sns\n",
    "plt.subplots(figsize=(10,5))\n",
    "ax=sns.barplot(x='Employee_Category',y='Utilization_percentage',hue = 'Current_Status',data=df_final)\n",
    "ax.set_xticklabels(ax.get_xticklabels(),rotation=40,ha='right')\n",
    "plt.show()"
   ]
  },
  {
   "cell_type": "markdown",
   "id": "de7a9ada",
   "metadata": {},
   "source": [
    "#### The resigned employee status present in Serving notice period, Awaiting termination and resigned employee category."
   ]
  },
  {
   "cell_type": "code",
   "execution_count": null,
   "id": "de08446f",
   "metadata": {},
   "outputs": [],
   "source": [
    "import seaborn as sns\n",
    "plt.subplots(figsize=(10,5))\n",
    "ax=sns.barplot(x='Employee_Position',y='Utilization_percentage',hue = 'Current_Status',data=df_final)\n",
    "ax.set_xticklabels(ax.get_xticklabels(),rotation=40,ha='right')\n",
    "plt.show()"
   ]
  },
  {
   "cell_type": "markdown",
   "id": "0e504a36",
   "metadata": {},
   "source": [
    "#### Most of the people resigned in level 10 position. There are very few people who resigned in early level Like level 1,level2,level3, level4.\n",
    "#### When it come to level 6,7,8,10 the resigned count increases in employees."
   ]
  },
  {
   "cell_type": "code",
   "execution_count": null,
   "id": "bfaff6e9",
   "metadata": {},
   "outputs": [],
   "source": [
    "import seaborn as sns\n",
    "plt.subplots(figsize=(10,5))\n",
    "ax=sns.barplot(x='Employee_Position',y='Utilization_percentage',hue = 'Current_Status',data=df_final)\n",
    "ax.set_xticklabels(ax.get_xticklabels(),rotation=40,ha='right')\n",
    "plt.show()"
   ]
  },
  {
   "cell_type": "markdown",
   "id": "b3821688",
   "metadata": {},
   "source": [
    "#### there is no relation between the employee location and current status but here there very few employees resigned in location 5 and 6,\n",
    "#### it is because of facility they get at the location or some other reasons."
   ]
  },
  {
   "cell_type": "code",
   "execution_count": null,
   "id": "0b4d39bb",
   "metadata": {},
   "outputs": [],
   "source": [
    "import seaborn as sns\n",
    "plt.subplots(figsize=(10,5))\n",
    "ax=sns.barplot(x='Profit_Center',y='Utilization_percentage',hue = 'Current_Status',data=df_final)\n",
    "ax.set_xticklabels(ax.get_xticklabels(),rotation=40,ha='right')\n",
    "plt.show()"
   ]
  },
  {
   "cell_type": "markdown",
   "id": "570d6965",
   "metadata": {},
   "source": [
    "#### Here we see that the profit center department 4 and 8 has negligible number of resigned employees. In PC6 there are totally \n",
    "#### half percentage of employees in active and resigned status."
   ]
  },
  {
   "cell_type": "code",
   "execution_count": null,
   "id": "b3ee01ae",
   "metadata": {},
   "outputs": [],
   "source": [
    "import seaborn as sns\n",
    "plt.subplots(figsize=(10,5))\n",
    "ax=sns.barplot(x='Profit_Center',y='Work_Hours',hue = 'Current_Status',data=df_final)\n",
    "ax.set_xticklabels(ax.get_xticklabels(),rotation=40,ha='right')\n",
    "plt.show()"
   ]
  },
  {
   "cell_type": "markdown",
   "id": "6f91160e",
   "metadata": {},
   "source": [
    "### There are very less number of work hours in pc4 and pc8. So we see that this is the reason that the most employees are active in status\n",
    "### than many other Profit centers."
   ]
  },
  {
   "cell_type": "code",
   "execution_count": null,
   "id": "e709534d",
   "metadata": {},
   "outputs": [],
   "source": [
    "import seaborn as sns\n",
    "plt.subplots(figsize=(10,5))\n",
    "ax=sns.barplot(x='Profit_Center',y='Training_Hours',data=df_final)\n",
    "ax.set_xticklabels(ax.get_xticklabels(),rotation=40,ha='right')\n",
    "plt.show()"
   ]
  },
  {
   "cell_type": "markdown",
   "id": "691116e8",
   "metadata": {},
   "source": [
    "There are very less number of training hours in pc4,pc8,pc9,pc10 and pc11"
   ]
  },
  {
   "cell_type": "code",
   "execution_count": null,
   "id": "2abc110d",
   "metadata": {},
   "outputs": [],
   "source": [
    "import seaborn as sns\n",
    "plt.subplots(figsize=(10,5))\n",
    "ax=sns.barplot(x='Employee_Category',y='Training_Hours',data=df_final)\n",
    "ax.set_xticklabels(ax.get_xticklabels(),rotation=40,ha='right')\n",
    "plt.show()"
   ]
  },
  {
   "cell_type": "markdown",
   "id": "2f240288",
   "metadata": {},
   "source": [
    "#### confirmed and fixed term staff has more training hours."
   ]
  },
  {
   "cell_type": "markdown",
   "id": "0b61deb0",
   "metadata": {},
   "source": [
    "#### We will plot the pairplot, to see the correlation between each variables"
   ]
  },
  {
   "cell_type": "code",
   "execution_count": null,
   "id": "51415f0b",
   "metadata": {},
   "outputs": [],
   "source": [
    "plt.figure(figsize=(10,10), dpi= 80)\n",
    "sns.pairplot(df_final, kind=\"scatter\", plot_kws=dict(s=80, edgecolor=\"white\", linewidth=2.5))\n",
    "plt.show()"
   ]
  },
  {
   "cell_type": "code",
   "execution_count": null,
   "id": "73b28f1a",
   "metadata": {},
   "outputs": [],
   "source": [
    "df_final.head()"
   ]
  },
  {
   "cell_type": "code",
   "execution_count": null,
   "id": "d5c95365",
   "metadata": {},
   "outputs": [],
   "source": [
    "## groupby by employee position to see the working hours for different positions"
   ]
  },
  {
   "cell_type": "code",
   "execution_count": null,
   "id": "a1ebd201",
   "metadata": {},
   "outputs": [],
   "source": [
    "gkk = df_final.groupby(['Employee_Category', 'Work_Hours'])"
   ]
  },
  {
   "cell_type": "code",
   "execution_count": null,
   "id": "a2d422ed",
   "metadata": {},
   "outputs": [],
   "source": [
    "gkk.first()"
   ]
  },
  {
   "cell_type": "code",
   "execution_count": null,
   "id": "591acd42",
   "metadata": {},
   "outputs": [],
   "source": [
    "utilization_percent_per_supervisorname = df_final.groupby(\"Profit_Center\")[\"Utilization_percentage\"].sum().plot(kind='bar')"
   ]
  },
  {
   "cell_type": "markdown",
   "id": "eadff31f",
   "metadata": {},
   "source": [
    "### Here the Profit Center 3 add more number of utilization percentage than Pc-2, pc1 and many other."
   ]
  },
  {
   "cell_type": "code",
   "execution_count": null,
   "id": "1601fd04",
   "metadata": {},
   "outputs": [],
   "source": [
    "utilization_percent_per_employee_position = df_final.groupby(\"Current_Status\")[\"Utilization_percentage\"].sum().plot(kind='bar')"
   ]
  },
  {
   "cell_type": "markdown",
   "id": "a92b517e",
   "metadata": {},
   "source": [
    "#### active employees has more number of utilization percentage than others employee categories such as Resigned"
   ]
  },
  {
   "cell_type": "code",
   "execution_count": null,
   "id": "198f81c1",
   "metadata": {},
   "outputs": [],
   "source": [
    "utilization_percent_per_employee_category = df_final.groupby(\"Employee_Category\")[\"Utilization_percentage\"].sum().plot(kind='bar')"
   ]
  },
  {
   "cell_type": "markdown",
   "id": "f9dde1c9",
   "metadata": {},
   "source": [
    "### The employees which are active in status has more utilization percentage as compared to Resigned employees."
   ]
  },
  {
   "cell_type": "code",
   "execution_count": null,
   "id": "48f8d2c7",
   "metadata": {},
   "outputs": [],
   "source": [
    "supervisor_devote_hours = df_final.groupby(\"Employee_Position\")[\"Work_Hours\"].sum().plot(kind='bar')"
   ]
  },
  {
   "cell_type": "markdown",
   "id": "cc955788",
   "metadata": {},
   "source": [
    "### Here we see that in intermediate level position like Level4, Level 5, Level 6, LEvel 7, Level 8 has more number of working hourse that other Level positions."
   ]
  },
  {
   "cell_type": "code",
   "execution_count": null,
   "id": "ed478f13",
   "metadata": {},
   "outputs": [],
   "source": [
    "Employee_cat_hours = df_final.groupby(\"Employee_Category\")[\"Work_Hours\"].sum().plot(kind='bar')"
   ]
  },
  {
   "cell_type": "markdown",
   "id": "719f06df",
   "metadata": {},
   "source": [
    "### Here we see that Confirmed staff  work more as compared to Serving Notice period staff."
   ]
  },
  {
   "cell_type": "code",
   "execution_count": null,
   "id": "b2a633a2",
   "metadata": {},
   "outputs": [],
   "source": [
    "df_final.info()"
   ]
  },
  {
   "cell_type": "code",
   "execution_count": null,
   "id": "4e05778a",
   "metadata": {},
   "outputs": [],
   "source": [
    "df_final['Current_Status'].value_counts()"
   ]
  },
  {
   "cell_type": "markdown",
   "id": "34233405",
   "metadata": {},
   "source": [
    "Here we see that there is imbalance dataset."
   ]
  },
  {
   "cell_type": "markdown",
   "id": "0b4793e9",
   "metadata": {},
   "source": [
    "## 3-d plot"
   ]
  },
  {
   "cell_type": "code",
   "execution_count": null,
   "id": "a89cbd11",
   "metadata": {},
   "outputs": [],
   "source": [
    "plt.figure(figsize=(10,5))\n",
    "plt.title(\" work hours done by employee at multiple position\")\n",
    "sns.pointplot(x='Employee_Position',y='Work_Hours',data=df_final, hue='Current_Status',join=False,palette=\"Set2\",ci=\"sd\")\n",
    "plt.xticks(rotation=90)\n",
    "plt.show()"
   ]
  },
  {
   "cell_type": "markdown",
   "id": "4a93a1c3",
   "metadata": {},
   "source": [
    "#### from above plot, we see that the employees who work more number of hours are active employees. And who has less working hours are resigned status."
   ]
  },
  {
   "cell_type": "code",
   "execution_count": null,
   "id": "806b8cb9",
   "metadata": {},
   "outputs": [],
   "source": [
    "plt.figure(figsize=(10,5))\n",
    "plt.title(\" time utilize by employee at multiple position\")\n",
    "sns.pointplot(x='Employee_Position',y='Utilization_percentage',data=df_final, hue='Current_Status',join=False,palette=\"Set2\",ci=\"sd\")\n",
    "plt.xticks(rotation=90)\n",
    "plt.show()"
   ]
  },
  {
   "cell_type": "markdown",
   "id": "15e83fae",
   "metadata": {},
   "source": [
    "In intermediate position like level 6,7 has more utilization_percentage as compared to others."
   ]
  },
  {
   "cell_type": "code",
   "execution_count": null,
   "id": "03f94e59",
   "metadata": {},
   "outputs": [],
   "source": [
    "df_final"
   ]
  },
  {
   "cell_type": "code",
   "execution_count": null,
   "id": "38a1ab1e",
   "metadata": {},
   "outputs": [],
   "source": [
    "df_final.info()"
   ]
  },
  {
   "cell_type": "markdown",
   "id": "fc843200",
   "metadata": {},
   "source": [
    "## Encoding the catagorical Object type Data"
   ]
  },
  {
   "cell_type": "code",
   "execution_count": null,
   "id": "256ce934",
   "metadata": {},
   "outputs": [],
   "source": [
    "#from imblearn.over_sampling import SMOTE\n",
    "#from sklearn.preprocessing import LabelEncoder\n",
    "#import warnings\n",
    "#warnings.filterwarnings(\"ignore\")\n",
    "#from sklearn.preprocessing import OrdinalEncoder"
   ]
  },
  {
   "cell_type": "code",
   "execution_count": null,
   "id": "d136e255",
   "metadata": {},
   "outputs": [],
   "source": [
    "#X = df_final.drop('Current_Status',axis='columns')\n",
    "#cat_col=[]\n",
    "#for i in X.dtypes.index:\n",
    "   # if X.dtypes[i]=='object':\n",
    "   #     cat_col.append(i)\n",
    "#print(cat_col)\n",
    "#X = pd.get_dummies(data=X, columns=cat_col)\n",
    "#X"
   ]
  },
  {
   "cell_type": "code",
   "execution_count": null,
   "id": "36ec9d99",
   "metadata": {},
   "outputs": [],
   "source": [
    "#X.columns"
   ]
  },
  {
   "cell_type": "code",
   "execution_count": null,
   "id": "20128f81",
   "metadata": {
    "scrolled": true
   },
   "outputs": [],
   "source": [
    "#X.dtypes"
   ]
  },
  {
   "cell_type": "code",
   "execution_count": null,
   "id": "05233fd9",
   "metadata": {},
   "outputs": [],
   "source": [
    "#scale_col = [\"Total_Hours\",\"Work_Hours\",\"Training_Hours\",\"Utilization_percentage\"]"
   ]
  },
  {
   "cell_type": "code",
   "execution_count": null,
   "id": "b2663f9f",
   "metadata": {},
   "outputs": [],
   "source": [
    "#from sklearn.preprocessing import MinMaxScaler\n",
    "#scaler = MinMaxScaler()\n",
    "#X[scale_col] = scaler.fit_transform(X[scale_col])\n",
    "#X"
   ]
  },
  {
   "cell_type": "code",
   "execution_count": null,
   "id": "20620510",
   "metadata": {},
   "outputs": [],
   "source": [
    "#for col in X:\n",
    "   # print(f'{col}: {df2[col].unique()}')"
   ]
  },
  {
   "cell_type": "code",
   "execution_count": null,
   "id": "d505f571",
   "metadata": {},
   "outputs": [],
   "source": [
    "#x = X.copy()"
   ]
  },
  {
   "cell_type": "code",
   "execution_count": null,
   "id": "00a5ac08",
   "metadata": {},
   "outputs": [],
   "source": [
    "#df_final.Current_Status.value_counts()"
   ]
  },
  {
   "cell_type": "code",
   "execution_count": null,
   "id": "789ce81a",
   "metadata": {},
   "outputs": [],
   "source": [
    "#df_final['Current_Status'].replace({'Active':1,'Resigned':0},inplace=True)\n",
    "#y = df_final['Current_Status']\n",
    "#y"
   ]
  },
  {
   "cell_type": "code",
   "execution_count": null,
   "id": "648f8955",
   "metadata": {},
   "outputs": [],
   "source": [
    "#x"
   ]
  },
  {
   "cell_type": "markdown",
   "id": "75324282",
   "metadata": {},
   "source": [
    "### Handle Imbalanced Data Using SMOTE"
   ]
  },
  {
   "cell_type": "code",
   "execution_count": null,
   "id": "243ebb60",
   "metadata": {},
   "outputs": [],
   "source": [
    "### importing the somte\n",
    "#from imblearn.over_sampling import SMOTE\n",
    "#sm=SMOTE(x,y)"
   ]
  },
  {
   "cell_type": "code",
   "execution_count": null,
   "id": "d318c40a",
   "metadata": {},
   "outputs": [],
   "source": [
    "#sm=SMOTE()\n",
    "#x,y = sm.fit_resample(x,y)"
   ]
  },
  {
   "cell_type": "code",
   "execution_count": null,
   "id": "922087a2",
   "metadata": {},
   "outputs": [],
   "source": [
    "#x"
   ]
  },
  {
   "cell_type": "code",
   "execution_count": null,
   "id": "2dc47f7b",
   "metadata": {},
   "outputs": [],
   "source": [
    "#from sklearn.model_selection import train_test_split\n",
    "#X_train, X_test, y_train, y_test = train_test_split(x,y,test_size=0.2,random_state=5)"
   ]
  },
  {
   "cell_type": "code",
   "execution_count": null,
   "id": "3c2ebcfc",
   "metadata": {},
   "outputs": [],
   "source": [
    "#len(X_train.columns)"
   ]
  },
  {
   "cell_type": "code",
   "execution_count": null,
   "id": "106b17bc",
   "metadata": {},
   "outputs": [],
   "source": [
    "#y_train"
   ]
  },
  {
   "cell_type": "code",
   "execution_count": null,
   "id": "db3ed6e5",
   "metadata": {},
   "outputs": [],
   "source": [
    "#import tensorflow as tf\n",
    "#from tensorflow import keras\n",
    "\n",
    "\n",
    "#model = keras.Sequential([\n",
    "  #  keras.layers.Dense(50, input_shape=(50,), activation='relu'),\n",
    "  #  keras.layers.Dense(15, activation='relu'),\n",
    "  #  keras.layers.Dense(1, activation='sigmoid')\n",
    "#])\n",
    "\n",
    "# opt = keras.optimizers.Adam(learning_rate=0.01)\n",
    "\n",
    "#model.compile(optimizer='adam',\n",
    "         #     loss='binary_crossentropy',\n",
    "          #    metrics=['accuracy'])\n",
    "\n",
    "#model.fit(X_train, y_train, epochs=100)"
   ]
  },
  {
   "cell_type": "code",
   "execution_count": null,
   "id": "2e8437d0",
   "metadata": {},
   "outputs": [],
   "source": [
    "#model.evaluate(X_test, y_test)\n",
    "#yp = model.predict(X_test)\n",
    "#y_pred = []\n",
    "#for element in yp:\n",
    " #   if element > 0.5:\n",
    "  #      y_pred.append(1)\n",
    "   # else:\n",
    "    #    y_pred.append(0)\n",
    "#y_pred[:10]\n",
    "#from sklearn.metrics import confusion_matrix , classification_report\n",
    "\n",
    "#print(classification_report(y_test,y_pred))\n",
    "#import seaborn as sn\n",
    "#cm = tf.math.confusion_matrix(labels=y_test,predictions=y_pred)\n",
    "#plt.figure(figsize = (10,7))\n",
    "#sn.heatmap(cm, annot=True, fmt='d')\n",
    "#plt.xlabel('Predicted')\n",
    "#plt.ylabel('Truth')"
   ]
  },
  {
   "cell_type": "code",
   "execution_count": null,
   "id": "50e621f3",
   "metadata": {},
   "outputs": [],
   "source": [
    "#"
   ]
  },
  {
   "cell_type": "markdown",
   "id": "b9de44d4",
   "metadata": {},
   "source": [
    "#### Employee_Category is more important features after that the important features are as mentioned above"
   ]
  },
  {
   "cell_type": "markdown",
   "id": "d2a22006",
   "metadata": {},
   "source": [
    "## Machine Learning Model for Classification Model with Evaulution matrics"
   ]
  },
  {
   "cell_type": "code",
   "execution_count": null,
   "id": "af04016b",
   "metadata": {},
   "outputs": [],
   "source": [
    "#from sklearn.metrics import accuracy_score,f1_score,precision_score,recall_score\n",
    "#from sklearn.metrics import confusion_matrix,classification_report,roc_auc_score,roc_curve,plot_roc_curve"
   ]
  },
  {
   "cell_type": "code",
   "execution_count": null,
   "id": "7b75f85a",
   "metadata": {},
   "outputs": [],
   "source": [
    "# Classification Model Function\n",
    "\n",
    "#def classify(model, x, y):\n",
    "    #x_train, x_test, y_train, y_test = train_test_split(x, y, test_size=0.25, random_state=0)\n",
    "    \n",
    "    # Training the model\n",
    "    #model.fit(x_train, y_train)\n",
    "    \n",
    "    # Predicting y_test\n",
    "    #pred = model.predict(x_test)\n",
    "    \n",
    "   # print('******************************************************')\n",
    "   # print(\"F1 - Score is \", f1_score(y_test, pred))\n",
    "    #print('******************************************************')\n",
    "   # print('Recall: %.3f' % recall_score(y_test,pred))\n",
    "   # print('******************************************************')\n",
    "   # print(\"Test roc_auc_Score is \",roc_auc_score(y_test, pred))\n",
    "    #print('-'*50)\n",
    "    \n",
    "    # Classification Report\n",
    "    #class_report = classification_report(y_test, pred)\n",
    "    #print(\"\\nClassification Report:\\n\", class_report)\n",
    "    \n",
    "    # confusion_matrix\n",
    "    #conf_mat = confusion_matrix(y_test, pred)\n",
    "    #print(\"\\nconfusion_matrix:\\n\", conf_mat)\n",
    "    \n",
    "    # Accuracy Score\n",
    "    #acc_score = (accuracy_score(y_test, pred))*100\n",
    "    #print(\"Accuracy Score:\", acc_score)\n",
    "    "
   ]
  },
  {
   "cell_type": "code",
   "execution_count": null,
   "id": "b50b9412",
   "metadata": {},
   "outputs": [],
   "source": [
    "#Logistic Regression\n",
    "#lr=LogisticRegression()\n",
    "#classify(lr,x,y)"
   ]
  },
  {
   "cell_type": "markdown",
   "id": "54d0b1c3",
   "metadata": {},
   "source": [
    "### Support vector machine "
   ]
  },
  {
   "cell_type": "code",
   "execution_count": null,
   "id": "675e2508",
   "metadata": {},
   "outputs": [],
   "source": [
    "# Support Vector Classifier\n",
    "#sv=SVC(C=1.0, kernel='rbf', gamma='auto', random_state=42)\n",
    "#classify(sv, x, y)"
   ]
  },
  {
   "cell_type": "markdown",
   "id": "b97de8a0",
   "metadata": {},
   "source": [
    "### Decision Tree Classifier"
   ]
  },
  {
   "cell_type": "code",
   "execution_count": null,
   "id": "41a278b2",
   "metadata": {},
   "outputs": [],
   "source": [
    "#dt=DecisionTreeClassifier(random_state=21, max_depth=15)\n",
    "#classify(dt, x, y)"
   ]
  },
  {
   "cell_type": "markdown",
   "id": "e7f03d8d",
   "metadata": {},
   "source": [
    "### Random Forest Classifier "
   ]
  },
  {
   "cell_type": "code",
   "execution_count": null,
   "id": "2e1e0ad4",
   "metadata": {},
   "outputs": [],
   "source": [
    "#rf=RandomForestClassifier(max_depth=15, random_state=111)\n",
    "#classify(rf, x, y)"
   ]
  },
  {
   "cell_type": "markdown",
   "id": "517ed342",
   "metadata": {},
   "source": [
    "###  K Neighbors Classifier"
   ]
  },
  {
   "cell_type": "code",
   "execution_count": null,
   "id": "a99953e1",
   "metadata": {},
   "outputs": [],
   "source": [
    "knn=KNeighborsClassifier(n_neighbors=15)\n",
    "classify(knn, x, y)"
   ]
  },
  {
   "cell_type": "markdown",
   "id": "28696518",
   "metadata": {},
   "source": [
    "### XGB Classifier"
   ]
  },
  {
   "cell_type": "code",
   "execution_count": null,
   "id": "194b460b",
   "metadata": {},
   "outputs": [],
   "source": [
    "#xc=xgb.XGBClassifier(verbosity=0)\n",
    "#classify(xc, x, y)"
   ]
  },
  {
   "cell_type": "markdown",
   "id": "90afb223",
   "metadata": {},
   "source": [
    "### Retraining model with Dropout layer:"
   ]
  },
  {
   "cell_type": "code",
   "execution_count": null,
   "id": "9cba3536",
   "metadata": {
    "scrolled": true
   },
   "outputs": [],
   "source": [
    "#model = keras.Sequential([\n",
    "   # keras.layers.Dense(50, input_shape=(50,), activation='relu'),\n",
    "   # keras.layers.Dropout(0.3),\n",
    "  #  keras.layers.Dense(15, activation='relu'),\n",
    "  #  keras.layers.Dropout(0.3),\n",
    "   # keras.layers.Dense(1, activation='sigmoid')\n",
    "#])\n",
    "\n",
    "# opt = keras.optimizers.Adam(learning_rate=0.01)\n",
    "\n",
    "#model.compile(optimizer='adam',\n",
    "        #      loss='binary_crossentropy',\n",
    "       #       metrics=['accuracy'])\n",
    "\n",
    "#model.fit(X_train, y_train, epochs=100)"
   ]
  },
  {
   "cell_type": "code",
   "execution_count": null,
   "id": "ed723335",
   "metadata": {},
   "outputs": [],
   "source": [
    "#yp = model.predict(X_test)\n",
    "#y_pred = []\n",
    "#for element in yp:\n",
    "   # if element > 0.5:\n",
    " #       y_pred.append(1)\n",
    "   # else:\n",
    "    #    y_pred.append(0)\n",
    "#y_pred"
   ]
  },
  {
   "cell_type": "markdown",
   "id": "9a55b57a",
   "metadata": {},
   "source": [
    "## Conclusions\n",
    "\n",
    "- From the above all model implementation of Machine learning Classification algorithms, we got about 95% **Accuracy, Precison,Recall,F-1 score** for most of the model except **SVM and KNN***\n",
    "- By watcing at scores of models it is saying that most of the models are in **Overfitting zone** to make model more genralized we can add **Dropout** Layer for that So, that we can eliminate **Overfitting** problem\n",
    "- For future predictions we can go with **Neural network based Deep Learning model**\n"
   ]
  },
  {
   "cell_type": "code",
   "execution_count": null,
   "id": "d3b1348c",
   "metadata": {},
   "outputs": [],
   "source": []
  }
 ],
 "metadata": {
  "kernelspec": {
   "display_name": "Python 3 (ipykernel)",
   "language": "python",
   "name": "python3"
  },
  "language_info": {
   "codemirror_mode": {
    "name": "ipython",
    "version": 3
   },
   "file_extension": ".py",
   "mimetype": "text/x-python",
   "name": "python",
   "nbconvert_exporter": "python",
   "pygments_lexer": "ipython3",
   "version": "3.9.7"
  }
 },
 "nbformat": 4,
 "nbformat_minor": 5
}
